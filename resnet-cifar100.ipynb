{
 "cells": [
  {
   "cell_type": "code",
   "execution_count": 16,
   "metadata": {},
   "outputs": [],
   "source": [
    "from tensorflow.keras.layers import Dense, Conv2D, BatchNormalization, AveragePooling2D\n",
    "from tensorflow.keras.layers import ReLU, Add, Flatten\n",
    "from tensorflow.keras import Model, Input\n",
    "from tensorflow.keras.callbacks import EarlyStopping, ReduceLROnPlateau\n",
    "from tensorflow.keras.optimizers import Adam\n",
    "from tensorflow.keras.regularizers import l2\n",
    "import tensorflow as tf\n",
    "import numpy as np\n",
    "import matplotlib.pyplot as plt"
   ]
  },
  {
   "cell_type": "code",
   "execution_count": 2,
   "metadata": {},
   "outputs": [],
   "source": [
    "# code to deal with tensorflow GPU errors\n",
    "physical_devices = tf.config.list_physical_devices(\"GPU\")\n",
    "tf.config.experimental.set_memory_growth(physical_devices[0], True)"
   ]
  },
  {
   "cell_type": "markdown",
   "metadata": {},
   "source": [
    "Defining arguments"
   ]
  },
  {
   "cell_type": "code",
   "execution_count": 3,
   "metadata": {},
   "outputs": [],
   "source": [
    "args = {\n",
    "    'lr':0.001,\n",
    "    'epochs':100,\n",
    "    'img_size':32,\n",
    "    'n_classes':100,\n",
    "    'batch_size':64,\n",
    "    'n':2\n",
    "}"
   ]
  },
  {
   "cell_type": "markdown",
   "metadata": {},
   "source": [
    "Loading data"
   ]
  },
  {
   "cell_type": "code",
   "execution_count": 4,
   "metadata": {},
   "outputs": [
    {
     "name": "stdout",
     "output_type": "stream",
     "text": [
      "(50000, 32, 32, 3) (10000, 32, 32, 3)\n"
     ]
    }
   ],
   "source": [
    "(x_train, y_train), (x_test, y_test) = tf.keras.datasets.cifar100.load_data()\n",
    "print(x_train.shape, x_test.shape)"
   ]
  },
  {
   "cell_type": "code",
   "execution_count": 5,
   "metadata": {},
   "outputs": [],
   "source": [
    "def get_mean_std(images):\n",
    "    images = images.astype(np.float32)\n",
    "    mean_vals = ()\n",
    "    std_vals = ()\n",
    "    for i in range(images.shape[-1]):\n",
    "        mean_vals += (np.mean(images[:, :, :, i]),)\n",
    "        std_vals += (np.std(images[:, :, :, i]),)\n",
    "    return mean_vals, std_vals"
   ]
  },
  {
   "cell_type": "markdown",
   "metadata": {},
   "source": [
    "Normalizing data"
   ]
  },
  {
   "cell_type": "code",
   "execution_count": 6,
   "metadata": {},
   "outputs": [
    {
     "name": "stdout",
     "output_type": "stream",
     "text": [
      "(129.30428, 124.07023, 112.43411)\n",
      "(68.17024, 65.391785, 70.4184)\n"
     ]
    }
   ],
   "source": [
    "mean_vals, std_vals = get_mean_std(x_train)\n",
    "print(mean_vals)\n",
    "print(std_vals)"
   ]
  },
  {
   "cell_type": "code",
   "execution_count": 7,
   "metadata": {},
   "outputs": [],
   "source": [
    "def normalize(images, mean_vals, std_vals):\n",
    "    images = images.astype(np.float32)\n",
    "    for i in range(images.shape[-1]):\n",
    "        images[:, :, :, i] = (images[:, :, :, i] - mean_vals[i])/std_vals[i]\n",
    "    return images\n"
   ]
  },
  {
   "cell_type": "code",
   "execution_count": 8,
   "metadata": {},
   "outputs": [
    {
     "name": "stdout",
     "output_type": "stream",
     "text": [
      "2.0245545 -1.8973366\n"
     ]
    }
   ],
   "source": [
    "x_train = normalize(x_train, mean_vals, std_vals)\n",
    "x_test = normalize(x_test, mean_vals, std_vals)\n",
    "print(x_test.max(), x_test.min())"
   ]
  },
  {
   "cell_type": "markdown",
   "metadata": {},
   "source": [
    "Data augmentation"
   ]
  },
  {
   "cell_type": "code",
   "execution_count": 9,
   "metadata": {},
   "outputs": [],
   "source": [
    "def augment(image, label):\n",
    "    img_size = image.shape[0]\n",
    "    image = tf.image.resize_with_crop_or_pad(image, img_size + 4, img_size + 4)\n",
    "    image = tf.image.random_crop(image, size=(img_size, img_size, 3))\n",
    "    image = tf.image.random_contrast(image, 0.2, 0.5)\n",
    "    image = tf.image.random_flip_left_right(image)\n",
    "\n",
    "    return image, label"
   ]
  },
  {
   "cell_type": "markdown",
   "metadata": {},
   "source": [
    "Dividing into train, validation"
   ]
  },
  {
   "cell_type": "code",
   "execution_count": 10,
   "metadata": {},
   "outputs": [],
   "source": [
    "val_frac = 0.2\n",
    "perm_ids = np.random.permutation(x_train.shape[0])\n",
    "val_ids = perm_ids[:int(val_frac*x_train.shape[0])]\n",
    "train_ids = perm_ids[int(val_frac*x_train.shape[0]):]\n",
    "x_val, y_val = x_train[val_ids], y_train[val_ids]\n",
    "x_train, y_train = x_train[train_ids], y_train[train_ids]"
   ]
  },
  {
   "cell_type": "markdown",
   "metadata": {},
   "source": [
    "Creating dataset objects"
   ]
  },
  {
   "cell_type": "code",
   "execution_count": 11,
   "metadata": {},
   "outputs": [],
   "source": [
    "train_ds = (tf.data.Dataset.from_tensor_slices((x_train, y_train))\n",
    "                           .map(augment, num_parallel_calls = tf.data.AUTOTUNE)\n",
    "                           .shuffle(x_train.shape[0])\n",
    "                           .batch(args['batch_size'])\n",
    "                           )\n",
    "val_ds = (tf.data.Dataset.from_tensor_slices((x_val, y_val))\n",
    "                         .batch(args['batch_size'])\n",
    "                         )\n",
    "test_ds = (tf.data.Dataset.from_tensor_slices((x_test, y_test))\n",
    "                          .batch(args['batch_size'])\n",
    "                          )"
   ]
  },
  {
   "cell_type": "code",
   "execution_count": 13,
   "metadata": {},
   "outputs": [
    {
     "name": "stderr",
     "output_type": "stream",
     "text": [
      "Clipping input data to the valid range for imshow with RGB data ([0..1] for floats or [0..255] for integers).\n"
     ]
    },
    {
     "data": {
      "image/png": "[encoded data removed]",
      "text/plain": [
       "<Figure size 432x288 with 1 Axes>"
      ]
     },
     "metadata": {
      "needs_background": "light"
     },
     "output_type": "display_data"
    }
   ],
   "source": [
    "# testing if data loaders work properly\n",
    "for images, targets in train_ds.take(1):\n",
    "    for i in range(1):\n",
    "        plt.imshow(images[i])"
   ]
  },
  {
   "cell_type": "markdown",
   "metadata": {},
   "source": [
    "Resnet model (copied from https://github.com/GoogleCloudPlatform/keras-idiomatic-programmer/blob/master/zoo/resnet/resnet_cifar10.py)"
   ]
  },
  {
   "cell_type": "code",
   "execution_count": 19,
   "metadata": {},
   "outputs": [],
   "source": [
    "def stem(inputs):\n",
    "    ''' Construct the Stem Convolutional Group \n",
    "        inputs : the input vector\n",
    "    '''\n",
    "    x = Conv2D(16, (3, 3), strides=(1, 1), padding='same', kernel_initializer='he_normal')(inputs)\n",
    "    x = BatchNormalization()(x)\n",
    "    x = ReLU()(x)\n",
    "    return x\n",
    "    \n",
    "def learner(x, n_blocks):\n",
    "    \"\"\" Construct the Learner\n",
    "        x          : input to the learner\n",
    "        n_blocks   : number of blocks in a group\n",
    "    \"\"\"\n",
    "    # First Residual Block Group of 16 filters (Stage 1)\n",
    "    # Quadruple (4X) the size of filters to fit the next Residual Group\n",
    "    x = residual_group(x, 16, n_blocks, strides=(1, 1), n=4)\n",
    "\n",
    "    # Second Residual Block Group of 64 filters (Stage 2)\n",
    "    # Double (2X) the size of filters and reduce feature maps by 75% (strides=2) to fit the next Residual Group\n",
    "    x = residual_group(x, 64, n_blocks, n=2)\n",
    "\n",
    "    # Third Residual Block Group of 64 filters (Stage 3)\n",
    "    # Double (2X) the size of filters and reduce feature maps by 75% (strides=2) to fit the next Residual Group\n",
    "    x = residual_group(x, 128, n_blocks, n=2)\n",
    "    return x\n",
    "\n",
    "def residual_group(x, n_filters, n_blocks, strides=(2, 2), n=2):\n",
    "    \"\"\" Construct a Residual Group\n",
    "        x         : input into the group\n",
    "        n_filters : number of filters for the group\n",
    "        n_blocks  : number of residual blocks with identity link\n",
    "        strides   : whether the projection block is a strided convolution\n",
    "        n         : multiplier for the number of filters out\n",
    "    \"\"\"\n",
    "    # Double the size of filters to fit the first Residual Group\n",
    "    x = projection_block(x, n_filters, strides=strides, n=n)\n",
    "\n",
    "    # Identity residual blocks\n",
    "    for _ in range(n_blocks):\n",
    "        x = identity_block(x, n_filters, n)\n",
    "    return x\n",
    "    \n",
    "def identity_block(x, n_filters, n=2):\n",
    "    \"\"\" Construct a Bottleneck Residual Block of Convolutions with Identity Shortcut\n",
    "        x        : input into the block\n",
    "        n_filters: number of filters\n",
    "        n        : multiplier for filters out\n",
    "    \"\"\"\n",
    "    # Save input vector (feature maps) for the identity link\n",
    "    shortcut = x\n",
    "    \n",
    "    ## Construct the 1x1, 3x3, 1x1 residual block (fig 3c)\n",
    "\n",
    "    # Dimensionality reduction\n",
    "    x = Conv2D(n_filters, (1, 1), strides=(1, 1), kernel_initializer='he_normal')(x)\n",
    "    x = BatchNormalization()(x)\n",
    "    x = ReLU()(x)\n",
    "\n",
    "    # Bottleneck layer\n",
    "    x = Conv2D(n_filters, (3, 3), strides=(1, 1), padding=\"same\", kernel_initializer='he_normal')(x)\n",
    "    x = BatchNormalization()(x)\n",
    "    x = ReLU()(x)\n",
    "\n",
    "    # Dimensionality restoration - increase the number of output filters by 2X or 4X\n",
    "    x = Conv2D(n_filters * n, (1, 1), strides=(1, 1), kernel_initializer='he_normal')(x)\n",
    "    x = BatchNormalization()(x)\n",
    "\n",
    "    # Add the identity link (input) to the output of the residual block\n",
    "    x = Add()([x, shortcut])\n",
    "    x = ReLU()(x)\n",
    "    return x\n",
    "\n",
    "def projection_block(x, n_filters, strides=(2,2), n=2):\n",
    "    \"\"\" Construct Bottleneck Residual Block with Projection Shortcut\n",
    "        Increase the number of filters by 2X (or 4X on first stage)\n",
    "        x        : input into the block\n",
    "        n_filters: number of filters\n",
    "        strides  : whether the first convolution is strided\n",
    "        n        : multiplier for number of filters out\n",
    "    \"\"\"\n",
    "    # Construct the projection shortcut\n",
    "    # Increase filters by 2X (or 4X) to match shape when added to output of block\n",
    "    shortcut = Conv2D(n_filters * n, (1, 1), strides=strides, kernel_initializer='he_normal')(x)\n",
    "\n",
    "    ## Construct the 1x1, 3x3, 1x1 convolution block\n",
    "\n",
    "    # Dimensionality reduction\n",
    "    x = Conv2D(n_filters, (1, 1), strides=(1,1), kernel_initializer='he_normal')(x)\n",
    "    x = BatchNormalization()(x)\n",
    "    x = ReLU()(x)\n",
    "    \n",
    "    # Bottleneck layer - feature pooling when strides=(2, 2)\n",
    "    x = Conv2D(n_filters, (3, 3), strides=strides, padding='same', kernel_initializer='he_normal')(x)\n",
    "    x = BatchNormalization()(x)\n",
    "    x = ReLU()(x)  \n",
    "    \n",
    "    # Dimensionality restoration - increase the number of filters by 2X (or 4X)\n",
    "    x = Conv2D(n_filters * n, (1, 1), strides=(1, 1), kernel_initializer='he_normal')(x)\n",
    "    x = BatchNormalization()(x)\n",
    "\n",
    "    # Add the projection shortcut to the output of the residual block\n",
    "    x = Add()([shortcut, x])\n",
    "    x = ReLU()(x)\n",
    "    return x\n",
    "    \n",
    "def classifier(x, n_classes):\n",
    "    ''' Construct the Classifier\n",
    "        x         : input into the classifier\n",
    "        n_classes : number of classes\n",
    "    '''\n",
    "    # Pool the feature maps after the end of all the residual blocks\n",
    "    x = BatchNormalization()(x)\n",
    "    x = ReLU()(x)\n",
    "    x = AveragePooling2D(pool_size=8)(x)\n",
    "    \n",
    "    # Flatten into 1D vector\n",
    "    x = Flatten()(x)\n",
    "\n",
    "    # Final Dense Outputting Layer \n",
    "    outputs = Dense(n_classes, activation='softmax', kernel_initializer='he_normal')(x)\n",
    "    return outputs"
   ]
  },
  {
   "cell_type": "code",
   "execution_count": 18,
   "metadata": {},
   "outputs": [],
   "source": [
    "def build_model(args):\n",
    "    n = args['n']    \n",
    "    depth =  n * 9 + 2\n",
    "    n_blocks = ((depth - 2) // 9) - 1\n",
    "    num_classes = args['n_classes']\n",
    "    input_shape = (args['img_size'], args['img_size'], 3)\n",
    "    inputs = Input(input_shape)\n",
    "    x = stem(inputs) \n",
    "    x = learner(x, n_blocks)\n",
    "    outputs = classifier(x, num_classes)\n",
    "    model = Model(inputs, outputs)\n",
    "    return model"
   ]
  },
  {
   "cell_type": "markdown",
   "metadata": {},
   "source": [
    "Compiling model"
   ]
  },
  {
   "cell_type": "code",
   "execution_count": null,
   "metadata": {},
   "outputs": [],
   "source": [
    "model = build_model(args)\n",
    "\n",
    "callbacks = [EarlyStopping(monitor = 'val_loss', patience = 10), \n",
    "             ReduceLROnPlateau(monitor = 'val_loss', factor = 0.5, patience = 5, verbose = 1)]\n",
    "\n",
    "model.compile(optimizer=Adam(learning_rate=args['lr']), loss='sparse_categorical_crossentropy', metrics=['accuracy'])"
   ]
  },
  {
   "cell_type": "code",
   "execution_count": null,
   "metadata": {},
   "outputs": [],
   "source": [
    "history = model.compile(\n",
    "    train_ds,\n",
    "    validation_data = val_ds,\n",
    "    epochs = args['epochs'],\n",
    "    callbacks = callbacks,\n",
    "    verbose = 2\n",
    ")"
   ]
  },
  {
   "cell_type": "markdown",
   "metadata": {},
   "source": [
    "Plotting metrics"
   ]
  },
  {
   "cell_type": "code",
   "execution_count": null,
   "metadata": {},
   "outputs": [],
   "source": [
    "plt.figure(figsize=(10, 10))\n",
    "plt.plot(history.history['loss'], label = \"Training loss\")\n",
    "plt.plot(history.history['val_loss'], label = \"Validation loss\")\n",
    "plt.legend()\n",
    "plt.xlabel(\"Epochs\")\n",
    "plt.ylabel(\"Loss\")"
   ]
  },
  {
   "cell_type": "code",
   "execution_count": null,
   "metadata": {},
   "outputs": [],
   "source": [
    "plt.figure(figsize=(10, 10))\n",
    "plt.plot(history.history['accuracy'], label = \"Training accuracy\")\n",
    "plt.plot(history.history['val_accuracy'], label = \"Validation accuracy\")\n",
    "plt.legend()\n",
    "plt.xlabel(\"Epochs\")\n",
    "plt.ylabel(\"Accuracy\")"
   ]
  },
  {
   "cell_type": "code",
   "execution_count": 14,
   "metadata": {},
   "outputs": [
    {
     "ename": "NameError",
     "evalue": "name 'history' is not defined",
     "output_type": "error",
     "traceback": [
      "\u001b[1;31m---------------------------------------------------------------------------\u001b[0m",
      "\u001b[1;31mNameError\u001b[0m                                 Traceback (most recent call last)",
      "\u001b[1;32m~\\AppData\\Local\\Temp\\ipykernel_6684\\2204412912.py\u001b[0m in \u001b[0;36m<cell line: 1>\u001b[1;34m()\u001b[0m\n\u001b[1;32m----> 1\u001b[1;33m \u001b[0mplt\u001b[0m\u001b[1;33m.\u001b[0m\u001b[0mplot\u001b[0m\u001b[1;33m(\u001b[0m\u001b[0mhistory\u001b[0m\u001b[1;33m.\u001b[0m\u001b[0mhistory\u001b[0m\u001b[1;33m[\u001b[0m\u001b[1;34m'lr'\u001b[0m\u001b[1;33m]\u001b[0m\u001b[1;33m)\u001b[0m\u001b[1;33m\u001b[0m\u001b[1;33m\u001b[0m\u001b[0m\n\u001b[0m\u001b[0;32m      2\u001b[0m \u001b[0mplt\u001b[0m\u001b[1;33m.\u001b[0m\u001b[0mxlabel\u001b[0m\u001b[1;33m(\u001b[0m\u001b[1;33m)\u001b[0m\u001b[1;33m\u001b[0m\u001b[1;33m\u001b[0m\u001b[0m\n",
      "\u001b[1;31mNameError\u001b[0m: name 'history' is not defined"
     ]
    }
   ],
   "source": [
    "plt.plot(history.history['lr'])\n",
    "plt.xlabel(\"Epochs\")\n",
    "plt.ylabel(\"Learning rate\")"
   ]
  },
  {
   "cell_type": "code",
   "execution_count": null,
   "metadata": {},
   "outputs": [],
   "source": []
  }
 ],
 "metadata": {
  "interpreter": {
   "hash": "50f8cb3f9f35f1e4806338cbd00de9dd66d8c70f21ba5be292c70ff31941a258"
  },
  "kernelspec": {
   "display_name": "Python 3.9.10 ('test')",
   "language": "python",
   "name": "python3"
  },
  "language_info": {
   "codemirror_mode": {
    "name": "ipython",
    "version": 3
   },
   "file_extension": ".py",
   "mimetype": "text/x-python",
   "name": "python",
   "nbconvert_exporter": "python",
   "pygments_lexer": "ipython3",
   "version": "3.9.10"
  },
  "orig_nbformat": 4
 },
 "nbformat": 4,
 "nbformat_minor": 2
}
