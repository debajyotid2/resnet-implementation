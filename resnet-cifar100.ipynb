{
 "cells": [
  {
   "cell_type": "code",
   "execution_count": 1,
   "metadata": {},
   "outputs": [],
   "source": [
    "from tensorflow.keras.layers import Dense, Conv2D, BatchNormalization, AveragePooling2D\n",
    "from tensorflow.keras.layers import ReLU, Add, Flatten\n",
    "from tensorflow.keras import Model, Input\n",
    "from tensorflow.keras.callbacks import EarlyStopping, ReduceLROnPlateau\n",
    "from tensorflow.keras.optimizers import Adam\n",
    "from tensorflow.keras.regularizers import l2\n",
    "import tensorflow as tf\n",
    "import numpy as np\n",
    "import matplotlib.pyplot as plt"
   ]
  },
  {
   "cell_type": "code",
   "execution_count": 2,
   "metadata": {},
   "outputs": [],
   "source": [
    "# code to deal with tensorflow GPU errors\n",
    "physical_devices = tf.config.list_physical_devices(\"GPU\")\n",
    "tf.config.experimental.set_memory_growth(physical_devices[0], True)"
   ]
  },
  {
   "cell_type": "markdown",
   "metadata": {},
   "source": [
    "Defining arguments"
   ]
  },
  {
   "cell_type": "code",
   "execution_count": 3,
   "metadata": {},
   "outputs": [],
   "source": [
    "args = {\n",
    "    'lr':0.001,\n",
    "    'epochs':100,\n",
    "    'img_size':32,\n",
    "    'n_classes':100,\n",
    "    'batch_size':64,\n",
    "    'n':2\n",
    "}"
   ]
  },
  {
   "cell_type": "markdown",
   "metadata": {},
   "source": [
    "Loading data"
   ]
  },
  {
   "cell_type": "code",
   "execution_count": 4,
   "metadata": {},
   "outputs": [
    {
     "name": "stdout",
     "output_type": "stream",
     "text": [
      "(50000, 32, 32, 3) (10000, 32, 32, 3)\n"
     ]
    }
   ],
   "source": [
    "(x_train, y_train), (x_test, y_test) = tf.keras.datasets.cifar100.load_data()\n",
    "print(x_train.shape, x_test.shape)"
   ]
  },
  {
   "cell_type": "code",
   "execution_count": 5,
   "metadata": {},
   "outputs": [],
   "source": [
    "def get_mean_std(images):\n",
    "    images = images.astype(np.float32)\n",
    "    mean_vals = ()\n",
    "    std_vals = ()\n",
    "    for i in range(images.shape[-1]):\n",
    "        mean_vals += (np.mean(images[:, :, :, i]),)\n",
    "        std_vals += (np.std(images[:, :, :, i]),)\n",
    "    return mean_vals, std_vals"
   ]
  },
  {
   "cell_type": "markdown",
   "metadata": {},
   "source": [
    "Normalizing data"
   ]
  },
  {
   "cell_type": "code",
   "execution_count": 6,
   "metadata": {},
   "outputs": [
    {
     "name": "stdout",
     "output_type": "stream",
     "text": [
      "(129.30428, 124.07023, 112.43411)\n",
      "(68.17024, 65.391785, 70.4184)\n"
     ]
    }
   ],
   "source": [
    "mean_vals, std_vals = get_mean_std(x_train)\n",
    "print(mean_vals)\n",
    "print(std_vals)"
   ]
  },
  {
   "cell_type": "code",
   "execution_count": 7,
   "metadata": {},
   "outputs": [],
   "source": [
    "def normalize(images, mean_vals, std_vals):\n",
    "    images = images.astype(np.float32)\n",
    "    for i in range(images.shape[-1]):\n",
    "        images[:, :, :, i] = (images[:, :, :, i] - mean_vals[i])/std_vals[i]\n",
    "    return images\n"
   ]
  },
  {
   "cell_type": "code",
   "execution_count": 8,
   "metadata": {},
   "outputs": [
    {
     "name": "stdout",
     "output_type": "stream",
     "text": [
      "2.0245545 -1.8973366\n"
     ]
    }
   ],
   "source": [
    "x_train = normalize(x_train, mean_vals, std_vals)\n",
    "x_test = normalize(x_test, mean_vals, std_vals)\n",
    "print(x_test.max(), x_test.min())"
   ]
  },
  {
   "cell_type": "markdown",
   "metadata": {},
   "source": [
    "Data augmentation"
   ]
  },
  {
   "cell_type": "code",
   "execution_count": 9,
   "metadata": {},
   "outputs": [],
   "source": [
    "def augment(image, label):\n",
    "    img_size = image.shape[0]\n",
    "    image = tf.image.resize_with_crop_or_pad(image, img_size + 4, img_size + 4)\n",
    "    image = tf.image.random_crop(image, size=(img_size, img_size, 3))\n",
    "    image = tf.image.random_contrast(image, 0.2, 0.5)\n",
    "    image = tf.image.random_flip_left_right(image)\n",
    "\n",
    "    return image, label"
   ]
  },
  {
   "cell_type": "markdown",
   "metadata": {},
   "source": [
    "Dividing into train, validation"
   ]
  },
  {
   "cell_type": "code",
   "execution_count": 10,
   "metadata": {},
   "outputs": [],
   "source": [
    "val_frac = 0.2\n",
    "perm_ids = np.random.permutation(x_train.shape[0])\n",
    "val_ids = perm_ids[:int(val_frac*x_train.shape[0])]\n",
    "train_ids = perm_ids[int(val_frac*x_train.shape[0]):]\n",
    "x_val, y_val = x_train[val_ids], y_train[val_ids]\n",
    "x_train, y_train = x_train[train_ids], y_train[train_ids]"
   ]
  },
  {
   "cell_type": "markdown",
   "metadata": {},
   "source": [
    "Creating dataset objects"
   ]
  },
  {
   "cell_type": "code",
   "execution_count": 11,
   "metadata": {},
   "outputs": [],
   "source": [
    "train_ds = (tf.data.Dataset.from_tensor_slices((x_train, y_train))\n",
    "                           .map(augment, num_parallel_calls = tf.data.AUTOTUNE)\n",
    "                           .shuffle(x_train.shape[0])\n",
    "                           .batch(args['batch_size'])\n",
    "                           )\n",
    "val_ds = (tf.data.Dataset.from_tensor_slices((x_val, y_val))\n",
    "                         .batch(args['batch_size'])\n",
    "                         )\n",
    "test_ds = (tf.data.Dataset.from_tensor_slices((x_test, y_test))\n",
    "                          .batch(args['batch_size'])\n",
    "                          )"
   ]
  },
  {
   "cell_type": "code",
   "execution_count": 12,
   "metadata": {},
   "outputs": [
    {
     "name": "stderr",
     "output_type": "stream",
     "text": [
      "Clipping input data to the valid range for imshow with RGB data ([0..1] for floats or [0..255] for integers).\n"
     ]
    },
    {
     "data": {
      "image/png": "[encoded data removed]",
      "text/plain": [
       "<Figure size 432x288 with 1 Axes>"
      ]
     },
     "metadata": {
      "needs_background": "light"
     },
     "output_type": "display_data"
    }
   ],
   "source": [
    "# testing if data loaders work properly\n",
    "for images, targets in train_ds.take(1):\n",
    "    for i in range(1):\n",
    "        plt.imshow(images[i])"
   ]
  },
  {
   "cell_type": "markdown",
   "metadata": {},
   "source": [
    "Resnet model (copied from https://github.com/GoogleCloudPlatform/keras-idiomatic-programmer/blob/master/zoo/resnet/resnet_cifar10.py)"
   ]
  },
  {
   "cell_type": "code",
   "execution_count": 13,
   "metadata": {},
   "outputs": [],
   "source": [
    "def stem(inputs):\n",
    "    ''' Construct the Stem Convolutional Group \n",
    "        inputs : the input vector\n",
    "    '''\n",
    "    x = Conv2D(16, (3, 3), strides=(1, 1), padding='same', kernel_initializer='he_normal')(inputs)\n",
    "    x = BatchNormalization()(x)\n",
    "    x = ReLU()(x)\n",
    "    return x\n",
    "    \n",
    "def learner(x, n_blocks):\n",
    "    \"\"\" Construct the Learner\n",
    "        x          : input to the learner\n",
    "        n_blocks   : number of blocks in a group\n",
    "    \"\"\"\n",
    "    # First Residual Block Group of 16 filters (Stage 1)\n",
    "    # Quadruple (4X) the size of filters to fit the next Residual Group\n",
    "    x = residual_group(x, 16, n_blocks, strides=(1, 1), n=4)\n",
    "\n",
    "    # Second Residual Block Group of 64 filters (Stage 2)\n",
    "    # Double (2X) the size of filters and reduce feature maps by 75% (strides=2) to fit the next Residual Group\n",
    "    x = residual_group(x, 64, n_blocks, n=2)\n",
    "\n",
    "    # Third Residual Block Group of 64 filters (Stage 3)\n",
    "    # Double (2X) the size of filters and reduce feature maps by 75% (strides=2) to fit the next Residual Group\n",
    "    x = residual_group(x, 128, n_blocks, n=2)\n",
    "    return x\n",
    "\n",
    "def residual_group(x, n_filters, n_blocks, strides=(2, 2), n=2):\n",
    "    \"\"\" Construct a Residual Group\n",
    "        x         : input into the group\n",
    "        n_filters : number of filters for the group\n",
    "        n_blocks  : number of residual blocks with identity link\n",
    "        strides   : whether the projection block is a strided convolution\n",
    "        n         : multiplier for the number of filters out\n",
    "    \"\"\"\n",
    "    # Double the size of filters to fit the first Residual Group\n",
    "    x = projection_block(x, n_filters, strides=strides, n=n)\n",
    "\n",
    "    # Identity residual blocks\n",
    "    for _ in range(n_blocks):\n",
    "        x = identity_block(x, n_filters, n)\n",
    "    return x\n",
    "    \n",
    "def identity_block(x, n_filters, n=2):\n",
    "    \"\"\" Construct a Bottleneck Residual Block of Convolutions with Identity Shortcut\n",
    "        x        : input into the block\n",
    "        n_filters: number of filters\n",
    "        n        : multiplier for filters out\n",
    "    \"\"\"\n",
    "    # Save input vector (feature maps) for the identity link\n",
    "    shortcut = x\n",
    "    \n",
    "    ## Construct the 1x1, 3x3, 1x1 residual block (fig 3c)\n",
    "\n",
    "    # Dimensionality reduction\n",
    "    x = Conv2D(n_filters, (1, 1), strides=(1, 1), kernel_initializer='he_normal')(x)\n",
    "    x = BatchNormalization()(x)\n",
    "    x = ReLU()(x)\n",
    "\n",
    "    # Bottleneck layer\n",
    "    x = Conv2D(n_filters, (3, 3), strides=(1, 1), padding=\"same\", kernel_initializer='he_normal')(x)\n",
    "    x = BatchNormalization()(x)\n",
    "    x = ReLU()(x)\n",
    "\n",
    "    # Dimensionality restoration - increase the number of output filters by 2X or 4X\n",
    "    x = Conv2D(n_filters * n, (1, 1), strides=(1, 1), kernel_initializer='he_normal')(x)\n",
    "    x = BatchNormalization()(x)\n",
    "\n",
    "    # Add the identity link (input) to the output of the residual block\n",
    "    x = Add()([x, shortcut])\n",
    "    x = ReLU()(x)\n",
    "    return x\n",
    "\n",
    "def projection_block(x, n_filters, strides=(2,2), n=2):\n",
    "    \"\"\" Construct Bottleneck Residual Block with Projection Shortcut\n",
    "        Increase the number of filters by 2X (or 4X on first stage)\n",
    "        x        : input into the block\n",
    "        n_filters: number of filters\n",
    "        strides  : whether the first convolution is strided\n",
    "        n        : multiplier for number of filters out\n",
    "    \"\"\"\n",
    "    # Construct the projection shortcut\n",
    "    # Increase filters by 2X (or 4X) to match shape when added to output of block\n",
    "    shortcut = Conv2D(n_filters * n, (1, 1), strides=strides, kernel_initializer='he_normal')(x)\n",
    "\n",
    "    ## Construct the 1x1, 3x3, 1x1 convolution block\n",
    "\n",
    "    # Dimensionality reduction\n",
    "    x = Conv2D(n_filters, (1, 1), strides=(1,1), kernel_initializer='he_normal')(x)\n",
    "    x = BatchNormalization()(x)\n",
    "    x = ReLU()(x)\n",
    "    \n",
    "    # Bottleneck layer - feature pooling when strides=(2, 2)\n",
    "    x = Conv2D(n_filters, (3, 3), strides=strides, padding='same', kernel_initializer='he_normal')(x)\n",
    "    x = BatchNormalization()(x)\n",
    "    x = ReLU()(x)  \n",
    "    \n",
    "    # Dimensionality restoration - increase the number of filters by 2X (or 4X)\n",
    "    x = Conv2D(n_filters * n, (1, 1), strides=(1, 1), kernel_initializer='he_normal')(x)\n",
    "    x = BatchNormalization()(x)\n",
    "\n",
    "    # Add the projection shortcut to the output of the residual block\n",
    "    x = Add()([shortcut, x])\n",
    "    x = ReLU()(x)\n",
    "    return x\n",
    "    \n",
    "def classifier(x, n_classes):\n",
    "    ''' Construct the Classifier\n",
    "        x         : input into the classifier\n",
    "        n_classes : number of classes\n",
    "    '''\n",
    "    # Pool the feature maps after the end of all the residual blocks\n",
    "    x = BatchNormalization()(x)\n",
    "    x = ReLU()(x)\n",
    "    x = AveragePooling2D(pool_size=8)(x)\n",
    "    \n",
    "    # Flatten into 1D vector\n",
    "    x = Flatten()(x)\n",
    "\n",
    "    # Final Dense Outputting Layer \n",
    "    outputs = Dense(n_classes, activation='softmax', kernel_initializer='he_normal')(x)\n",
    "    return outputs"
   ]
  },
  {
   "cell_type": "code",
   "execution_count": 14,
   "metadata": {},
   "outputs": [],
   "source": [
    "def build_model(args):\n",
    "    n = args['n']    \n",
    "    depth =  n * 9 + 2\n",
    "    n_blocks = ((depth - 2) // 9) - 1\n",
    "    num_classes = args['n_classes']\n",
    "    input_shape = (args['img_size'], args['img_size'], 3)\n",
    "    inputs = Input(input_shape)\n",
    "    x = stem(inputs) \n",
    "    x = learner(x, n_blocks)\n",
    "    outputs = classifier(x, num_classes)\n",
    "    model = Model(inputs, outputs)\n",
    "    return model"
   ]
  },
  {
   "cell_type": "markdown",
   "metadata": {},
   "source": [
    "Compiling model"
   ]
  },
  {
   "cell_type": "code",
   "execution_count": 15,
   "metadata": {},
   "outputs": [],
   "source": [
    "model = build_model(args)\n",
    "\n",
    "callbacks = [EarlyStopping(monitor = 'val_loss', patience = 10), \n",
    "             ReduceLROnPlateau(monitor = 'val_loss', factor = 0.5, patience = 5, verbose = 1)]\n",
    "\n",
    "model.compile(optimizer=Adam(learning_rate=args['lr']), loss='sparse_categorical_crossentropy', metrics=['accuracy'])"
   ]
  },
  {
   "cell_type": "code",
   "execution_count": 17,
   "metadata": {},
   "outputs": [
    {
     "name": "stdout",
     "output_type": "stream",
     "text": [
      "Epoch 1/100\n",
      "625/625 - 38s - loss: 4.0975 - accuracy: 0.0742 - val_loss: 4.4766 - val_accuracy: 0.0495 - lr: 0.0010 - 38s/epoch - 61ms/step\n",
      "Epoch 2/100\n",
      "625/625 - 23s - loss: 3.5736 - accuracy: 0.1467 - val_loss: 5.1752 - val_accuracy: 0.0486 - lr: 0.0010 - 23s/epoch - 36ms/step\n",
      "Epoch 3/100\n",
      "625/625 - 22s - loss: 3.0899 - accuracy: 0.2314 - val_loss: 3.6787 - val_accuracy: 0.1515 - lr: 0.0010 - 22s/epoch - 36ms/step\n",
      "Epoch 4/100\n",
      "625/625 - 23s - loss: 2.7435 - accuracy: 0.2973 - val_loss: 3.5987 - val_accuracy: 0.1712 - lr: 0.0010 - 23s/epoch - 36ms/step\n",
      "Epoch 5/100\n",
      "625/625 - 22s - loss: 2.4955 - accuracy: 0.3491 - val_loss: 3.4955 - val_accuracy: 0.2004 - lr: 0.0010 - 22s/epoch - 36ms/step\n",
      "Epoch 6/100\n",
      "625/625 - 22s - loss: 2.2971 - accuracy: 0.3939 - val_loss: 2.9636 - val_accuracy: 0.2756 - lr: 0.0010 - 22s/epoch - 35ms/step\n",
      "Epoch 7/100\n",
      "625/625 - 22s - loss: 2.1470 - accuracy: 0.4265 - val_loss: 3.0976 - val_accuracy: 0.2788 - lr: 0.0010 - 22s/epoch - 35ms/step\n",
      "Epoch 8/100\n",
      "625/625 - 22s - loss: 2.0196 - accuracy: 0.4575 - val_loss: 2.8972 - val_accuracy: 0.3095 - lr: 0.0010 - 22s/epoch - 35ms/step\n",
      "Epoch 9/100\n",
      "625/625 - 22s - loss: 1.9222 - accuracy: 0.4776 - val_loss: 2.6285 - val_accuracy: 0.3382 - lr: 0.0010 - 22s/epoch - 35ms/step\n",
      "Epoch 10/100\n",
      "625/625 - 22s - loss: 1.8355 - accuracy: 0.4981 - val_loss: 2.8277 - val_accuracy: 0.3267 - lr: 0.0010 - 22s/epoch - 35ms/step\n",
      "Epoch 11/100\n",
      "625/625 - 22s - loss: 1.7545 - accuracy: 0.5199 - val_loss: 2.4955 - val_accuracy: 0.3777 - lr: 0.0010 - 22s/epoch - 35ms/step\n",
      "Epoch 12/100\n",
      "625/625 - 22s - loss: 1.6798 - accuracy: 0.5360 - val_loss: 2.7808 - val_accuracy: 0.3488 - lr: 0.0010 - 22s/epoch - 35ms/step\n",
      "Epoch 13/100\n",
      "625/625 - 22s - loss: 1.6241 - accuracy: 0.5476 - val_loss: 2.6336 - val_accuracy: 0.3709 - lr: 0.0010 - 22s/epoch - 35ms/step\n",
      "Epoch 14/100\n",
      "625/625 - 22s - loss: 1.5627 - accuracy: 0.5676 - val_loss: 2.4746 - val_accuracy: 0.3940 - lr: 0.0010 - 22s/epoch - 35ms/step\n",
      "Epoch 15/100\n",
      "625/625 - 22s - loss: 1.5149 - accuracy: 0.5754 - val_loss: 3.0481 - val_accuracy: 0.3378 - lr: 0.0010 - 22s/epoch - 35ms/step\n",
      "Epoch 16/100\n",
      "625/625 - 22s - loss: 1.4681 - accuracy: 0.5903 - val_loss: 2.3721 - val_accuracy: 0.4177 - lr: 0.0010 - 22s/epoch - 35ms/step\n",
      "Epoch 17/100\n",
      "625/625 - 22s - loss: 1.4277 - accuracy: 0.6007 - val_loss: 2.4027 - val_accuracy: 0.4260 - lr: 0.0010 - 22s/epoch - 35ms/step\n",
      "Epoch 18/100\n",
      "625/625 - 22s - loss: 1.3735 - accuracy: 0.6101 - val_loss: 2.4163 - val_accuracy: 0.4131 - lr: 0.0010 - 22s/epoch - 35ms/step\n",
      "Epoch 19/100\n",
      "625/625 - 22s - loss: 1.3346 - accuracy: 0.6199 - val_loss: 2.1745 - val_accuracy: 0.4610 - lr: 0.0010 - 22s/epoch - 35ms/step\n",
      "Epoch 20/100\n",
      "625/625 - 22s - loss: 1.3120 - accuracy: 0.6252 - val_loss: 2.2702 - val_accuracy: 0.4391 - lr: 0.0010 - 22s/epoch - 35ms/step\n",
      "Epoch 21/100\n",
      "625/625 - 22s - loss: 1.2641 - accuracy: 0.6364 - val_loss: 2.4217 - val_accuracy: 0.4332 - lr: 0.0010 - 22s/epoch - 35ms/step\n",
      "Epoch 22/100\n",
      "625/625 - 22s - loss: 1.2353 - accuracy: 0.6471 - val_loss: 2.1671 - val_accuracy: 0.4520 - lr: 0.0010 - 22s/epoch - 35ms/step\n",
      "Epoch 23/100\n",
      "625/625 - 22s - loss: 1.2078 - accuracy: 0.6513 - val_loss: 2.4769 - val_accuracy: 0.4226 - lr: 0.0010 - 22s/epoch - 35ms/step\n",
      "Epoch 24/100\n",
      "625/625 - 22s - loss: 1.1783 - accuracy: 0.6598 - val_loss: 2.4396 - val_accuracy: 0.4239 - lr: 0.0010 - 22s/epoch - 35ms/step\n",
      "Epoch 25/100\n",
      "625/625 - 22s - loss: 1.1499 - accuracy: 0.6688 - val_loss: 2.4978 - val_accuracy: 0.4273 - lr: 0.0010 - 22s/epoch - 35ms/step\n",
      "Epoch 26/100\n",
      "625/625 - 22s - loss: 1.1146 - accuracy: 0.6746 - val_loss: 2.2950 - val_accuracy: 0.4449 - lr: 0.0010 - 22s/epoch - 35ms/step\n",
      "Epoch 27/100\n",
      "\n",
      "Epoch 27: ReduceLROnPlateau reducing learning rate to 0.0005000000237487257.\n",
      "625/625 - 22s - loss: 1.0930 - accuracy: 0.6796 - val_loss: 2.3289 - val_accuracy: 0.4570 - lr: 0.0010 - 22s/epoch - 35ms/step\n",
      "Epoch 28/100\n",
      "625/625 - 22s - loss: 0.9502 - accuracy: 0.7217 - val_loss: 1.8986 - val_accuracy: 0.5140 - lr: 5.0000e-04 - 22s/epoch - 35ms/step\n",
      "Epoch 29/100\n",
      "625/625 - 22s - loss: 0.9144 - accuracy: 0.7326 - val_loss: 2.0818 - val_accuracy: 0.4790 - lr: 5.0000e-04 - 22s/epoch - 35ms/step\n",
      "Epoch 30/100\n",
      "625/625 - 22s - loss: 0.8936 - accuracy: 0.7364 - val_loss: 2.0441 - val_accuracy: 0.5058 - lr: 5.0000e-04 - 22s/epoch - 35ms/step\n",
      "Epoch 31/100\n",
      "625/625 - 22s - loss: 0.8783 - accuracy: 0.7394 - val_loss: 2.0534 - val_accuracy: 0.5047 - lr: 5.0000e-04 - 22s/epoch - 35ms/step\n",
      "Epoch 32/100\n",
      "625/625 - 22s - loss: 0.8526 - accuracy: 0.7471 - val_loss: 2.0229 - val_accuracy: 0.5043 - lr: 5.0000e-04 - 22s/epoch - 35ms/step\n",
      "Epoch 33/100\n",
      "\n",
      "Epoch 33: ReduceLROnPlateau reducing learning rate to 0.0002500000118743628.\n",
      "625/625 - 22s - loss: 0.8414 - accuracy: 0.7491 - val_loss: 1.9511 - val_accuracy: 0.5156 - lr: 5.0000e-04 - 22s/epoch - 35ms/step\n",
      "Epoch 34/100\n",
      "625/625 - 22s - loss: 0.7670 - accuracy: 0.7756 - val_loss: 1.8087 - val_accuracy: 0.5376 - lr: 2.5000e-04 - 22s/epoch - 35ms/step\n",
      "Epoch 35/100\n",
      "625/625 - 22s - loss: 0.7429 - accuracy: 0.7796 - val_loss: 1.8419 - val_accuracy: 0.5386 - lr: 2.5000e-04 - 22s/epoch - 35ms/step\n",
      "Epoch 36/100\n",
      "625/625 - 22s - loss: 0.7344 - accuracy: 0.7838 - val_loss: 1.8531 - val_accuracy: 0.5342 - lr: 2.5000e-04 - 22s/epoch - 35ms/step\n",
      "Epoch 37/100\n",
      "625/625 - 22s - loss: 0.7233 - accuracy: 0.7848 - val_loss: 1.8321 - val_accuracy: 0.5440 - lr: 2.5000e-04 - 22s/epoch - 35ms/step\n",
      "Epoch 38/100\n",
      "625/625 - 22s - loss: 0.7157 - accuracy: 0.7863 - val_loss: 1.8389 - val_accuracy: 0.5419 - lr: 2.5000e-04 - 22s/epoch - 35ms/step\n",
      "Epoch 39/100\n",
      "625/625 - 22s - loss: 0.7021 - accuracy: 0.7919 - val_loss: 1.8033 - val_accuracy: 0.5493 - lr: 2.5000e-04 - 22s/epoch - 35ms/step\n",
      "Epoch 40/100\n",
      "625/625 - 22s - loss: 0.6938 - accuracy: 0.7933 - val_loss: 1.9042 - val_accuracy: 0.5345 - lr: 2.5000e-04 - 22s/epoch - 35ms/step\n",
      "Epoch 41/100\n",
      "625/625 - 22s - loss: 0.6867 - accuracy: 0.7946 - val_loss: 1.8882 - val_accuracy: 0.5407 - lr: 2.5000e-04 - 22s/epoch - 35ms/step\n",
      "Epoch 42/100\n",
      "625/625 - 22s - loss: 0.6759 - accuracy: 0.7969 - val_loss: 1.9231 - val_accuracy: 0.5294 - lr: 2.5000e-04 - 22s/epoch - 35ms/step\n",
      "Epoch 43/100\n",
      "625/625 - 22s - loss: 0.6645 - accuracy: 0.8034 - val_loss: 1.9802 - val_accuracy: 0.5308 - lr: 2.5000e-04 - 22s/epoch - 35ms/step\n",
      "Epoch 44/100\n",
      "\n",
      "Epoch 44: ReduceLROnPlateau reducing learning rate to 0.0001250000059371814.\n",
      "625/625 - 22s - loss: 0.6594 - accuracy: 0.8029 - val_loss: 1.9388 - val_accuracy: 0.5367 - lr: 2.5000e-04 - 22s/epoch - 35ms/step\n",
      "Epoch 45/100\n",
      "625/625 - 22s - loss: 0.6194 - accuracy: 0.8151 - val_loss: 1.8814 - val_accuracy: 0.5443 - lr: 1.2500e-04 - 22s/epoch - 35ms/step\n",
      "Epoch 46/100\n",
      "625/625 - 22s - loss: 0.6168 - accuracy: 0.8176 - val_loss: 1.8280 - val_accuracy: 0.5546 - lr: 1.2500e-04 - 22s/epoch - 35ms/step\n",
      "Epoch 47/100\n",
      "625/625 - 22s - loss: 0.6009 - accuracy: 0.8235 - val_loss: 1.7940 - val_accuracy: 0.5625 - lr: 1.2500e-04 - 22s/epoch - 35ms/step\n",
      "Epoch 48/100\n",
      "625/625 - 22s - loss: 0.6003 - accuracy: 0.8204 - val_loss: 1.8805 - val_accuracy: 0.5467 - lr: 1.2500e-04 - 22s/epoch - 35ms/step\n",
      "Epoch 49/100\n",
      "625/625 - 22s - loss: 0.5955 - accuracy: 0.8246 - val_loss: 1.8447 - val_accuracy: 0.5496 - lr: 1.2500e-04 - 22s/epoch - 35ms/step\n",
      "Epoch 50/100\n",
      "625/625 - 22s - loss: 0.5868 - accuracy: 0.8251 - val_loss: 1.8532 - val_accuracy: 0.5565 - lr: 1.2500e-04 - 22s/epoch - 35ms/step\n",
      "Epoch 51/100\n",
      "625/625 - 22s - loss: 0.5852 - accuracy: 0.8250 - val_loss: 1.8684 - val_accuracy: 0.5518 - lr: 1.2500e-04 - 22s/epoch - 35ms/step\n",
      "Epoch 52/100\n",
      "\n",
      "Epoch 52: ReduceLROnPlateau reducing learning rate to 6.25000029685907e-05.\n",
      "625/625 - 22s - loss: 0.5837 - accuracy: 0.8273 - val_loss: 1.8739 - val_accuracy: 0.5478 - lr: 1.2500e-04 - 22s/epoch - 35ms/step\n",
      "Epoch 53/100\n",
      "625/625 - 22s - loss: 0.5608 - accuracy: 0.8351 - val_loss: 1.8538 - val_accuracy: 0.5559 - lr: 6.2500e-05 - 22s/epoch - 35ms/step\n",
      "Epoch 54/100\n",
      "625/625 - 22s - loss: 0.5598 - accuracy: 0.8343 - val_loss: 1.8586 - val_accuracy: 0.5550 - lr: 6.2500e-05 - 22s/epoch - 35ms/step\n",
      "Epoch 55/100\n",
      "625/625 - 22s - loss: 0.5550 - accuracy: 0.8360 - val_loss: 1.8657 - val_accuracy: 0.5547 - lr: 6.2500e-05 - 22s/epoch - 35ms/step\n",
      "Epoch 56/100\n",
      "625/625 - 22s - loss: 0.5504 - accuracy: 0.8363 - val_loss: 1.8442 - val_accuracy: 0.5565 - lr: 6.2500e-05 - 22s/epoch - 35ms/step\n",
      "Epoch 57/100\n",
      "\n",
      "Epoch 57: ReduceLROnPlateau reducing learning rate to 3.125000148429535e-05.\n",
      "625/625 - 22s - loss: 0.5493 - accuracy: 0.8359 - val_loss: 1.8774 - val_accuracy: 0.5521 - lr: 6.2500e-05 - 22s/epoch - 35ms/step\n"
     ]
    }
   ],
   "source": [
    "history = model.fit(\n",
    "    train_ds,\n",
    "    validation_data = val_ds,\n",
    "    epochs = args['epochs'],\n",
    "    callbacks = callbacks,\n",
    "    verbose = 2\n",
    ")"
   ]
  },
  {
   "cell_type": "markdown",
   "metadata": {},
   "source": [
    "Plotting metrics"
   ]
  },
  {
   "cell_type": "code",
   "execution_count": 18,
   "metadata": {},
   "outputs": [
    {
     "data": {
      "text/plain": [
       "Text(0, 0.5, 'Loss')"
      ]
     },
     "execution_count": 18,
     "metadata": {},
     "output_type": "execute_result"
    },
    {
     "data": {
      "image/png": "[encoded data removed]",
      "text/plain": [
       "<Figure size 720x720 with 1 Axes>"
      ]
     },
     "metadata": {
      "needs_background": "light"
     },
     "output_type": "display_data"
    }
   ],
   "source": [
    "plt.figure(figsize=(10, 10))\n",
    "plt.plot(history.history['loss'], label = \"Training loss\")\n",
    "plt.plot(history.history['val_loss'], label = \"Validation loss\")\n",
    "plt.legend()\n",
    "plt.xlabel(\"Epochs\")\n",
    "plt.ylabel(\"Loss\")"
   ]
  },
  {
   "cell_type": "code",
   "execution_count": 19,
   "metadata": {},
   "outputs": [
    {
     "data": {
      "text/plain": [
       "Text(0, 0.5, 'Accuracy')"
      ]
     },
     "execution_count": 19,
     "metadata": {},
     "output_type": "execute_result"
    },
    {
     "data": {
      "image/png": "[encoded data removed]",
      "text/plain": [
       "<Figure size 720x720 with 1 Axes>"
      ]
     },
     "metadata": {
      "needs_background": "light"
     },
     "output_type": "display_data"
    }
   ],
   "source": [
    "plt.figure(figsize=(10, 10))\n",
    "plt.plot(history.history['accuracy'], label = \"Training accuracy\")\n",
    "plt.plot(history.history['val_accuracy'], label = \"Validation accuracy\")\n",
    "plt.legend()\n",
    "plt.xlabel(\"Epochs\")\n",
    "plt.ylabel(\"Accuracy\")"
   ]
  },
  {
   "cell_type": "code",
   "execution_count": 20,
   "metadata": {},
   "outputs": [
    {
     "data": {
      "text/plain": [
       "Text(0, 0.5, 'Learning rate')"
      ]
     },
     "execution_count": 20,
     "metadata": {},
     "output_type": "execute_result"
    },
    {
     "data": {
      "image/png": "[encoded data removed]",
      "text/plain": [
       "<Figure size 432x288 with 1 Axes>"
      ]
     },
     "metadata": {
      "needs_background": "light"
     },
     "output_type": "display_data"
    }
   ],
   "source": [
    "plt.plot(history.history['lr'])\n",
    "plt.xlabel(\"Epochs\")\n",
    "plt.ylabel(\"Learning rate\")"
   ]
  },
  {
   "cell_type": "code",
   "execution_count": null,
   "metadata": {},
   "outputs": [],
   "source": []
  }
 ],
 "metadata": {
  "interpreter": {
   "hash": "50f8cb3f9f35f1e4806338cbd00de9dd66d8c70f21ba5be292c70ff31941a258"
  },
  "kernelspec": {
   "display_name": "Python 3.9.10 ('test')",
   "language": "python",
   "name": "python3"
  },
  "language_info": {
   "codemirror_mode": {
    "name": "ipython",
    "version": 3
   },
   "file_extension": ".py",
   "mimetype": "text/x-python",
   "name": "python",
   "nbconvert_exporter": "python",
   "pygments_lexer": "ipython3",
   "version": "3.9.12"
  },
  "orig_nbformat": 4
 },
 "nbformat": 4,
 "nbformat_minor": 2
}
